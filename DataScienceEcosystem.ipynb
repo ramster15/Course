{
 "cells": [
  {
   "cell_type": "markdown",
   "id": "cd04531a-244a-4760-b815-f05a804ed872",
   "metadata": {},
   "source": [
    "# Data Science Tools and Ecosystem"
   ]
  },
  {
   "cell_type": "markdown",
   "id": "04e26bab-a245-4302-8145-df74dce4846a",
   "metadata": {},
   "source": [
    "In this notebook, Data Science Tools and Ecosystem are summarized."
   ]
  },
  {
   "cell_type": "markdown",
   "id": "79e13fe0-cb9b-4050-a10d-1126e2bbddca",
   "metadata": {},
   "source": [
    "**Objectives:**\n",
    "* List popular languages used in Data Science\n",
    "* List commonly used libraries in Data Science\n",
    "* Tabulating Data Science tools"
   ]
  },
  {
   "cell_type": "markdown",
   "id": "3448f41e-27c2-40a2-ab37-bf9114ef8a7c",
   "metadata": {},
   "source": [
    "Some of the popular languages that Data Scientists use are:\n",
    "1. R\n",
    "2. Python\n",
    "3. SQL"
   ]
  },
  {
   "cell_type": "markdown",
   "id": "0025ef4a-77cb-4aee-8f34-4738c963aa5b",
   "metadata": {},
   "source": [
    "Some of the commonly used libraries used by Data Scientists include:\n",
    "1. NumPy\n",
    "2. Pandas\n",
    "3. PyTorch"
   ]
  },
  {
   "cell_type": "markdown",
   "id": "8535a9c5-c96d-472d-8904-fa7512305035",
   "metadata": {},
   "source": [
    "| Data Science Tools |\n",
    "|:------------------:|\n",
    "|      Hadoop        |\n",
    "|   Apache Spark     |\n",
    "|    TensorFlow      |"
   ]
  },
  {
   "cell_type": "markdown",
   "id": "6e578202-ffc8-48d7-b9df-8f25f45ae281",
   "metadata": {},
   "source": [
    "### Below are a few examples of evaluating arithmetic expressions in Python"
   ]
  },
  {
   "cell_type": "code",
   "execution_count": 13,
   "id": "fb31ea0f-1ef9-464c-9e14-16c45ce249e3",
   "metadata": {},
   "outputs": [
    {
     "data": {
      "text/plain": [
       "17"
      ]
     },
     "execution_count": 13,
     "metadata": {},
     "output_type": "execute_result"
    }
   ],
   "source": [
    "#This a simple arithmetic expression to mutiply then add integers\n",
    "(3*4)+5\n"
   ]
  },
  {
   "cell_type": "code",
   "execution_count": 15,
   "id": "cccd5e3c-898a-4d67-8809-d725214324ba",
   "metadata": {},
   "outputs": [
    {
     "data": {
      "text/plain": [
       "3.3333333333333335"
      ]
     },
     "execution_count": 15,
     "metadata": {},
     "output_type": "execute_result"
    }
   ],
   "source": [
    "#This will convert 200 minutes to hours by diving by 60\n",
    "200/60\n"
   ]
  },
  {
   "cell_type": "markdown",
   "id": "eb2196a4-33d6-4151-ac9c-33e193e43ccf",
   "metadata": {},
   "source": [
    "## Author\n",
    "Ram Naishadham"
   ]
  },
  {
   "cell_type": "code",
   "execution_count": null,
   "id": "ff39b644-bb59-405e-949e-8f7b65492cc3",
   "metadata": {},
   "outputs": [],
   "source": []
  }
 ],
 "metadata": {
  "kernelspec": {
   "display_name": "Python [conda env:base] *",
   "language": "python",
   "name": "conda-base-py"
  },
  "language_info": {
   "codemirror_mode": {
    "name": "ipython",
    "version": 3
   },
   "file_extension": ".py",
   "mimetype": "text/x-python",
   "name": "python",
   "nbconvert_exporter": "python",
   "pygments_lexer": "ipython3",
   "version": "3.11.7"
  }
 },
 "nbformat": 4,
 "nbformat_minor": 5
}
